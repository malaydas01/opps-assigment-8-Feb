{
 "cells": [
  {
   "cell_type": "code",
   "execution_count": null,
   "id": "6e22539a-59ee-4b3e-a236-099d7b966d1c",
   "metadata": {},
   "outputs": [],
   "source": [
    "Q1. What is Abstraction in OOps? Explain with an example."
   ]
  },
  {
   "cell_type": "code",
   "execution_count": null,
   "id": "26198180-a650-4871-afff-77fe52df51ba",
   "metadata": {},
   "outputs": [],
   "source": [
    "An abstract class can be considered a blue\n",
    "print for other classes. It allows you to create a set of methods that must be created within any child classes built from the abstract class.\n",
    "A class that contains one or more abstract methods is called an abstract class. An abstract method is a method that has a declaration but does not have an implementation.\n"
   ]
  },
  {
   "cell_type": "code",
   "execution_count": 4,
   "id": "b662f9b4-3b2d-42e8-a0e3-8bf0a10ed60e",
   "metadata": {},
   "outputs": [],
   "source": [
    "import abc\n",
    "class pwskills:\n",
    "        \n",
    "    @abc.abstractmethod\n",
    "    def students_name(self):\n",
    "        pass\n",
    "    \n",
    "    @abc.abstractmethod\n",
    "    def students_class(self):\n",
    "        pass\n",
    "    \n",
    "    @abc.abstractmethod\n",
    "    def stuent_marks(self):\n",
    "        pass\n",
    "        \n",
    "    @abc.abstractmethod\n",
    "    def student_assigment(self):\n",
    "        pass\n",
    "    "
   ]
  },
  {
   "cell_type": "code",
   "execution_count": null,
   "id": "f57e6072-42d3-4996-9f7f-87ebd7a5b738",
   "metadata": {},
   "outputs": [],
   "source": [
    "Q2. Differentiate between Abstraction and Encapsulation. Explain with an example."
   ]
  },
  {
   "cell_type": "code",
   "execution_count": null,
   "id": "7f0f7c59-5a58-41ea-af4b-1802e4d1adb2",
   "metadata": {},
   "outputs": [],
   "source": [
    "Abstraction is a process of hiding the implementation details of a system from the user, and only the functional details will be available to the user end. On the other hand, Encapsulation is a method of wrapping up the data and code acting on the data into a single unit."
   ]
  },
  {
   "cell_type": "code",
   "execution_count": null,
   "id": "02469f03-941b-45a4-ad3d-e9ebb38323ef",
   "metadata": {},
   "outputs": [],
   "source": [
    "# Example of encapsulation in Python\n",
    "class Vehicle:\n",
    "    def __init__(self, brand, max_speed):\n",
    "        self.__brand = brand  # private attribute\n",
    "        self.__max_speed = max_speed  # private attribute\n",
    "    \n",
    "    def get_brand(self):\n",
    "        return self.__brand\n",
    "    \n",
    "    def set_max_speed(self, max_speed):\n",
    "        if max_speed > 0:\n",
    "            self.__max_speed = max_speed\n",
    "    \n",
    "    def display_info(self):\n",
    "        print(f\"Brand: {self.__brand}\")\n",
    "        print(f\"Max Speed: {self.__max_speed} km/h\")\n",
    "\n",
    "# Creating objects of Vehicle class\n",
    "car = Vehicle(\"Toyota\", 180)\n",
    "motorcycle = Vehicle(\"Honda\", 150)\n",
    "\n",
    "# Accessing encapsulated data and methods\n",
    "print(car.get_brand()) \n",
    "car.set_max_speed(200)\n",
    "car.display_info()\n",
    "\n",
    "print(motorcycle.get_brand())  \n",
    "motorcycle.set_max_speed(160)\n",
    "motorcycle.display_info()\n"
   ]
  },
  {
   "cell_type": "code",
   "execution_count": null,
   "id": "c2a767af-c6cf-474d-9610-c7d59a0b69b3",
   "metadata": {},
   "outputs": [],
   "source": [
    "Q3. What is abc module in python? Why is it used?"
   ]
  },
  {
   "cell_type": "code",
   "execution_count": null,
   "id": "3ed11f31-2c30-469c-b6ea-ef6a8bb2fee1",
   "metadata": {},
   "outputs": [],
   "source": [
    "\n",
    "In Python, the abc module stands for \"Abstract Base Classes\". It provides tools for defining abstract base classes in Python, which are classes that cannot be instantiated on their own, but can be subclassed to provide specific implementations. Abstract base classes define a blueprint or interface that subclasses must adhere to by implementing specific methods or properties.\n",
    "\n",
    "Purpose and Usage of the abc Module:\n",
    "    The abc module allows you to define abstract base classes using the ABC class as a metaclass and abstractmethod decorator to declare abstract methods.\n",
    "Abstract methods are methods declared in the base class but are not implemented there. They must be implemented in subclasses that inherit from the abstract base class."
   ]
  },
  {
   "cell_type": "code",
   "execution_count": null,
   "id": "705e3d6c-d575-47eb-a106-b137151182f2",
   "metadata": {},
   "outputs": [],
   "source": [
    "import abc \n",
    "\n",
    "\n",
    "class AbstractClass(metaclass=abc.ABCMeta): \n",
    "\tdef abstractfunc(self): \n",
    "\t\treturn None\n",
    "\n",
    "\n",
    "print(AbstractClass.register(dict)) \n"
   ]
  },
  {
   "cell_type": "code",
   "execution_count": null,
   "id": "afbdc3d5-2d7e-4fd8-946a-48046b3583e9",
   "metadata": {},
   "outputs": [],
   "source": [
    "Q4. How can we achieve data abstraction?"
   ]
  },
  {
   "cell_type": "code",
   "execution_count": null,
   "id": "baffe027-a5f6-4378-9e77-346c98138ef3",
   "metadata": {},
   "outputs": [],
   "source": [
    "In Python, we can achieve data abstraction by using abstract classes and abstract classes can be created using abc (abstract base class) module and abstractmethod of abc module. Abstract class is a class in which one or more abstract methods are defined.\n",
    "Data abstraction is one of the most essential concepts of Python OOPs which is used to hide irrelevant details from the user and show the details that are relevant to the users.\n"
   ]
  },
  {
   "cell_type": "code",
   "execution_count": null,
   "id": "d06f5535-3c86-4725-8274-80e5dbf90c7d",
   "metadata": {},
   "outputs": [],
   "source": [
    "Q5. Can we create an instance of an abstract class? Explain your answer."
   ]
  },
  {
   "cell_type": "code",
   "execution_count": null,
   "id": "0a5f55ba-d9ae-454c-a07a-16649b31689a",
   "metadata": {},
   "outputs": [],
   "source": []
  }
 ],
 "metadata": {
  "kernelspec": {
   "display_name": "Python 3 (ipykernel)",
   "language": "python",
   "name": "python3"
  },
  "language_info": {
   "codemirror_mode": {
    "name": "ipython",
    "version": 3
   },
   "file_extension": ".py",
   "mimetype": "text/x-python",
   "name": "python",
   "nbconvert_exporter": "python",
   "pygments_lexer": "ipython3",
   "version": "3.10.8"
  }
 },
 "nbformat": 4,
 "nbformat_minor": 5
}
